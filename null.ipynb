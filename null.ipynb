K-Means Clustering

from sklearn.cluster import KMeans
import numpy as np
import matplotlib.pyplot as plt

# Sample data: 2D points
X = np.array([[1, 2], [1, 4], [1, 0],
              [4, 2], [4, 4], [4, 0]])

kmeans = KMeans(n_clusters=2, random_state=0)
kmeans.fit(X)

# Plotting
plt.scatter(X[:, 0], X[:, 1], c=kmeans.labels_)
plt.scatter(kmeans.cluster_centers_[:, 0], kmeans.cluster_centers_[:, 1], s=100, c='red', label='Centroids')
plt.legend()
plt.title("K-Means Clustering")
plt.show()

Linear Regression

from sklearn.linear_model import LinearRegression
import numpy as np
import matplotlib.pyplot as plt

# Example data
X = np.array([[1], [2], [3], [4], [5]])
y = np.array([2, 4, 5, 4, 5])

model = LinearRegression()
model.fit(X, y)

# Predict
y_pred = model.predict(X)

# Plot
plt.scatter(X, y, color='blue', label='Actual')
plt.plot(X, y_pred, color='red', label='Predicted')
plt.title("Linear Regression")
plt.legend()
plt.show()


Artificial Neural Network (ANN)

from sklearn.neural_network import MLPClassifier
from sklearn.datasets import load_iris
from sklearn.model_selection import train_test_split

# Load dataset
iris = load_iris()
X, y = iris.data, iris.target

X_train, X_test, y_train, y_test = train_test_split(X, y, test_size=0.2, random_state=42)

model = MLPClassifier(hidden_layer_sizes=(10,), max_iter=1000, random_state=1)
model.fit(X_train, y_train)

accuracy = model.score(X_test, y_test)
print(f"ANN Test Accuracy: {accuracy:.2f}")


Support Vector Machine (SVM)

from sklearn import datasets
from sklearn.model_selection import train_test_split
from sklearn.svm import SVC
import matplotlib.pyplot as plt

# Load dataset
X, y = datasets.load_iris(return_X_y=True)
X = X[:, :2]  # Use first two features for plotting

X_train, X_test, y_train, y_test = train_test_split(X, y, test_size=0.3, random_state=42)

model = SVC(kernel='linear')
model.fit(X_train, y_train)

# Accuracy
print(f"SVM Accuracy: {model.score(X_test, y_test):.2f}")

Mean and Median

import numpy as np

data = [2, 4, 6, 8, 10]

# Mean
mean_val = np.mean(data)
# Median
median_val = np.median(data)

print(f"Mean: {mean_val}")
print(f"Median: {median_val}")

Breadth-First Search (BFS) in Python

from collections import deque

def bfs(graph, start):
    visited = set()            # Keep track of visited nodes
    queue = deque([start])     # Initialize queue with the starting node

    while queue:
        node = queue.popleft()  # Remove the front node from the queue
        if node not in visited:
            print(node, end=" ")  # Visit the node (e.g., print it)
            visited.add(node)     # Mark as visited
            queue.extend(graph[node])  # Add neighbors to the queue

# Example graph (undirected)
graph = {
    'A': ['B', 'C'],
    'B': ['A', 'D', 'E'],
    'C': ['A', 'F'],
    'D': ['B'],
    'E': ['B', 'F'],
    'F': ['C', 'E']
}

# Run BFS starting from node 'A'
print("BFS Traversal:")
bfs(graph, 'A')

